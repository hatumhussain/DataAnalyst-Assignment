{
 "cells": [
  {
   "cell_type": "markdown",
   "id": "68aa29ef-1f55-4f74-89c7-76b52d676749",
   "metadata": {},
   "source": [
    "Question 1: Age Group Classification \n",
    "\n",
    "Write a Python program that takes the age of a person as input and classifies them into one of the following age groups:\n",
    "\n",
    "\"Child\" if the age is between 0 and 12 (inclusive).\n",
    "\n",
    "\"Teenager\" if the age is between 13 and 19 (inclusive).\n",
    "\n",
    "\"Adult\" if the age is between 20 and 64 (inclusive).\n",
    "\n",
    "\"Senior\" if the age is 65 or older.\n"
   ]
  },
  {
   "cell_type": "code",
   "execution_count": 9,
   "id": "8dd97c72-cbc8-4340-b94e-e77df332c602",
   "metadata": {},
   "outputs": [
    {
     "name": "stdin",
     "output_type": "stream",
     "text": [
      "Enter Your Age:  20\n"
     ]
    },
    {
     "name": "stdout",
     "output_type": "stream",
     "text": [
      "You are Adult\n"
     ]
    }
   ],
   "source": [
    "age = int(input (\"Enter Your Age: \"))\n",
    "if age <=12:\n",
    "    print(\"You are Child\")\n",
    "elif age <=19:\n",
    "    print(\"You are Teenager\")\n",
    "elif age<=64:\n",
    "    print(\"You are Adult\")\n",
    "else:\n",
    "    print(\"You are Senior\")"
   ]
  },
  {
   "cell_type": "markdown",
   "id": "42b6cd48-d7da-4f9f-a3db-1fedfdf16b11",
   "metadata": {},
   "source": [
    "Question 2: Checking for Eligibility for Discount\n",
    "\n",
    "Write a Python program that determines if a customer is eligible for a discount. The program should take the customer's membership status and purchase amount as input and check the following conditions:\n",
    "\n",
    "The customer is a \"premium\" member and the purchase amount is greater than or equal to 1000.\n",
    "\n",
    "The customer is a \"regular\" member and the purchase amount is greater than or equal to 2000.\n",
    "\n",
    "If the customer meets either of the above conditions, print \"Eligible for discount\", otherwise print \"Not eligible for discount\".\n"
   ]
  },
  {
   "cell_type": "code",
   "execution_count": 37,
   "id": "85599e33-c6e6-4149-99b9-28752499649b",
   "metadata": {},
   "outputs": [
    {
     "name": "stdin",
     "output_type": "stream",
     "text": [
      "customer membership status premium\n",
      "customer purchase amount 900\n"
     ]
    },
    {
     "name": "stdout",
     "output_type": "stream",
     "text": [
      "Not eligible for discount\n"
     ]
    }
   ],
   "source": [
    "customer = input(\"customer membership status\")\n",
    "customer = input(\"customer purchase amount\")\n",
    "if(customer ==\"premium\" and amount >= 1000):\n",
    "    print(\"you are eligible for discount\")\n",
    "elif(customer ==\"regular\" and amount >= 2000):\n",
    "    print(\"you are eligible for discount\")\n",
    "else:\n",
    "    print(\"Not eligible for discount\")"
   ]
  },
  {
   "cell_type": "markdown",
   "id": "592c0fd7-52f5-4c63-8508-b1639972722e",
   "metadata": {},
   "source": [
    "Question 3: Voting Eligibility Check\n",
    "\n",
    "Write a Python program that checks if a person is eligible to vote based on their age and citizenship status. The program should take the following inputs:\n",
    "\n",
    "Age (an integer).\n",
    "\n",
    "Citizenship status (a string: either \"citizen\" or \"non-citizen\").\n",
    "\n",
    "\n",
    "The eligibility conditions are:\n",
    "\n",
    "The person must be at least 18 years old and a \"citizen\" to be eligible to vote.\n",
    "\n",
    "Alternatively, the person can be at least 16 years old and a \"citizen\" of a special region where voting is allowed from age 16.\n",
    "\n",
    "\n",
    "If the person meets either of the conditions, print \"Eligible to vote\", otherwise print \"Not eligible to vote\".\n"
   ]
  },
  {
   "cell_type": "code",
   "execution_count": 44,
   "id": "62a14e62-e260-4da4-81aa-e327184a1f86",
   "metadata": {},
   "outputs": [
    {
     "name": "stdin",
     "output_type": "stream",
     "text": [
      "Enter your age:  28\n",
      "Enter your citizenship status:  pakistani\n"
     ]
    },
    {
     "name": "stdout",
     "output_type": "stream",
     "text": [
      "You are eligible for voting\n"
     ]
    }
   ],
   "source": [
    "age = int(input(\"Enter your age: \")) \n",
    "citizenship = input(\"Enter your citizenship status: \")\n",
    "\n",
    "if age >= 18 and citizenship == \"pakistani\":\n",
    "    print(\"You are eligible for voting\")\n",
    "elif age >= 16 and citizenship == \"pakistani\":\n",
    "    print(\"You are eligible for voting in special regions\")\n",
    "else:\n",
    "    print(\"You are not eligible for voting\")"
   ]
  },
  {
   "cell_type": "markdown",
   "id": "0c953a18-6281-4cd1-a4e1-2b9cb2a09f93",
   "metadata": {},
   "source": [
    "Question 4: Employee Salary Bonus Eligibility\n",
    "\n",
    "Write a Python program that determines if an employee is eligible for a salary bonus based on the following conditions:\n",
    "\n",
    "The employee's performance rating is \"Excellent\" and their years of service are greater than or equal to 5 years.\n",
    "\n",
    "The employee's performance rating is \"Good\" and their years of service are greater than or equal to 10 years.\n",
    "\n",
    "The employee's performance rating is \"Satisfactory\" or their years of service are greater than or equal to 15 years.\n",
    "\n",
    "The employee is not eligible for a bonus if neither of these conditions is met.\n",
    "\n",
    "The program should print one of the following:\n",
    "\n",
    "\"Eligible for bonus\" if the employee meets any of the criteria.\n",
    "\n",
    "\"Not eligible for bonus\" if none of the conditions apply.\n",
    "\n",
    "\n"
   ]
  },
  {
   "cell_type": "code",
   "execution_count": 51,
   "id": "b7b7e7d5-e66e-46af-a77c-9227388a135b",
   "metadata": {},
   "outputs": [
    {
     "name": "stdin",
     "output_type": "stream",
     "text": [
      "Enter the employee's performance rating:  Satisfactor\n",
      "Enter the employee's years of service:  15\n"
     ]
    },
    {
     "name": "stdout",
     "output_type": "stream",
     "text": [
      "Eligible for bonus\n"
     ]
    }
   ],
   "source": [
    "performancerating = input(\"Enter the employee's performance rating: \")\n",
    "yearsofservice = int(input(\"Enter the employee's years of service: \"))\n",
    "\n",
    "if performancerating == \"Excellent\" and yearsofservice >= 5:\n",
    "    print(\"Eligible for bonus\")\n",
    "elif performancerating == \"Good\" and yearsofservice >= 10:\n",
    "    print(\"Eligible for bonus\")\n",
    "elif performancerating == \"Satisfactory\" or yearsofservice >= 15:\n",
    "    print(\"Eligible for bonus\")\n",
    "else:\n",
    "    print(\"Not eligible for bonus\")"
   ]
  },
  {
   "cell_type": "markdown",
   "id": "819f32c2-14cf-4925-aeaa-79c1c0e4a840",
   "metadata": {},
   "source": [
    "Question 5. Write a program that replaces spaces with underscores, counts how many underscores are there, and finds the position of the first underscore.\n",
    "Use text: \"I'm learning Python programming\"?\n"
   ]
  },
  {
   "cell_type": "code",
   "execution_count": 57,
   "id": "24ad956d-73e5-4a4a-b288-4f7f82c61ede",
   "metadata": {},
   "outputs": [
    {
     "name": "stdout",
     "output_type": "stream",
     "text": [
      "Modified Text: I'm_learning_Python_programming\n",
      "Number of underscores: 3\n",
      "Position of the first underscore: 3\n"
     ]
    }
   ],
   "source": [
    "text = \"I'm learning Python programming\"\n",
    "modified_text = text.replace(\" \", \"_\")\n",
    "underscore_count = modified_text.count(\"_\")\n",
    "first_underscore_position = modified_text.find(\"_\")\n",
    "print(\"Modified Text:\", modified_text)\n",
    "print(\"Number of underscores:\", underscore_count)\n",
    "print(\"Position of the first underscore:\", first_underscore_position)\n"
   ]
  },
  {
   "cell_type": "markdown",
   "id": "c836a1d2-0fa3-490f-9c54-0ec64e2593bf",
   "metadata": {},
   "source": [
    "Question 6: \n",
    "\n",
    "Write a Python program that:\n",
    "\n",
    "Takes a string as input.\n",
    "\n",
    "Prints all characters of the string except the last 3 using slicing.\n",
    "\n",
    "Prints every second character of the string using slicing.\n",
    "\n",
    "Prints the string in reverse using slicing\n"
   ]
  },
  {
   "cell_type": "code",
   "execution_count": 62,
   "id": "9105d53d-2570-4549-adb3-cc4ba2bd7a15",
   "metadata": {},
   "outputs": [
    {
     "name": "stdin",
     "output_type": "stream",
     "text": [
      "Enter a string: hatum hussain\n"
     ]
    },
    {
     "name": "stdout",
     "output_type": "stream",
     "text": [
      "String except the last 3 characters: hatum huss\n",
      "Every second character of the string: htmhsan\n",
      "String in reverse: niassuh mutah\n"
     ]
    }
   ],
   "source": [
    "inputstring = input(\"Enter a string:\")\n",
    "print(\"String except the last 3 characters:\", inputstring[:-3])\n",
    "print(\"Every second character of the string:\", inputstring[::2])\n",
    "print(\"String in reverse:\", inputstring[::-1])"
   ]
  },
  {
   "cell_type": "markdown",
   "id": "c6c9d1bd-0731-4fb2-a2bb-981f88b53b5d",
   "metadata": {},
   "source": [
    "Question 7. Given a sentence, you need to reverse the order of the words in the sentence while preserving their original capitalization and spaces.\n",
    "Use text : \"Hello World, We are learning Python\"\n",
    "\n",
    "\n"
   ]
  },
  {
   "cell_type": "code",
   "execution_count": 66,
   "id": "7cc785af-dc57-4a69-aeb6-0d176c8de979",
   "metadata": {},
   "outputs": [
    {
     "name": "stdout",
     "output_type": "stream",
     "text": [
      "Reversed sentence: Python learning are We World, Hello\n"
     ]
    }
   ],
   "source": [
    "sentence = \"Hello World, We are learning Python\"\n",
    "words = sentence.split()\n",
    "print(\"Reversed sentence:\", reversed_sentence)"
   ]
  },
  {
   "cell_type": "markdown",
   "id": "d59cc68a-5390-4c64-9cac-dfdecb73ff4b",
   "metadata": {},
   "source": [
    "Question 8. You have a product code that follows the format \"SKU-12345-XYZ\". You need to:\n",
    "Remove the \"SKU-\" and the \"-XYZ\" from the product code. Extract and return the number\n"
   ]
  },
  {
   "cell_type": "code",
   "execution_count": 67,
   "id": "f756e822-da59-41e2-9940-17f913287fdf",
   "metadata": {},
   "outputs": [
    {
     "name": "stdout",
     "output_type": "stream",
     "text": [
      "Extracted number: 12345\n"
     ]
    }
   ],
   "source": [
    "product_code = \"SKU-12345-XYZ\"\n",
    "product_code_without_sku = product_code[4:]\n",
    "number = product_code_without_sku[:-4]\n",
    "print(\"Extracted number:\", number)"
   ]
  },
  {
   "cell_type": "markdown",
   "id": "11ff652d-af2b-4c43-af50-52d01a1cce92",
   "metadata": {},
   "source": [
    "Question 9. Write a Python program to check user password has following:\n",
    "Whether the string contains any uppercase characters. Whether the string contains any lowercase characters. Whether the string contains any spaces. Whether the string contains any special characters (anything other than letters, digits, and spaces).\n"
   ]
  },
  {
   "cell_type": "code",
   "execution_count": 68,
   "id": "b8e4c00d-0422-417d-9ed5-1b7c1dcea19c",
   "metadata": {},
   "outputs": [
    {
     "name": "stdin",
     "output_type": "stream",
     "text": [
      "Enter your password:  hatum\n"
     ]
    },
    {
     "name": "stdout",
     "output_type": "stream",
     "text": [
      "Contains uppercase characters: False\n",
      "Contains lowercase characters: True\n",
      "Contains spaces: False\n",
      "Contains special characters: False\n"
     ]
    }
   ],
   "source": [
    "password = input(\"Enter your password: \")\n",
    "has_uppercase = any(char.isupper() for char in password)\n",
    "has_lowercase = any(char.islower() for char in password)\n",
    "has_space = any(char.isspace() for char in password)\n",
    "has_special = any(not char.isalnum() and not char.isspace() for char in password)\n",
    "print(\"Contains uppercase characters:\", has_uppercase)\n",
    "print(\"Contains lowercase characters:\", has_lowercase)\n",
    "print(\"Contains spaces:\", has_space)\n",
    "print(\"Contains special characters:\", has_special)"
   ]
  },
  {
   "cell_type": "markdown",
   "id": "a6f8cabe-e82f-43a3-92b8-1f2046f56390",
   "metadata": {},
   "source": [
    "Question 10: Find the Longest Word\n",
    "\n",
    "Write a Python program that finds the longest word in a given string.\n",
    "\n",
    "Example:\n",
    "\n",
    "Input: \"I love programming in Python\"\n",
    "Output: \"programming\"\n",
    "\n"
   ]
  },
  {
   "cell_type": "code",
   "execution_count": 69,
   "id": "a5e71bfc-4b77-4c5d-9662-14e2ce0b66bd",
   "metadata": {},
   "outputs": [
    {
     "name": "stdout",
     "output_type": "stream",
     "text": [
      "28\n"
     ]
    }
   ],
   "source": [
    "a = \"I love programming in Python\"\n",
    "print(len(a))"
   ]
  },
  {
   "cell_type": "code",
   "execution_count": null,
   "id": "435cb1f0-3dea-4629-83af-152c22985755",
   "metadata": {},
   "outputs": [],
   "source": []
  }
 ],
 "metadata": {
  "kernelspec": {
   "display_name": "Python 3 (ipykernel)",
   "language": "python",
   "name": "python3"
  },
  "language_info": {
   "codemirror_mode": {
    "name": "ipython",
    "version": 3
   },
   "file_extension": ".py",
   "mimetype": "text/x-python",
   "name": "python",
   "nbconvert_exporter": "python",
   "pygments_lexer": "ipython3",
   "version": "3.12.7"
  }
 },
 "nbformat": 4,
 "nbformat_minor": 5
}
