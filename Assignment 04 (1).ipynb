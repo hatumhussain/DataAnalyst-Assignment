{
 "cells": [
  {
   "cell_type": "markdown",
   "id": "ab73f663-062e-4643-82ad-30ea2c60ba31",
   "metadata": {},
   "source": [
    "Q1. my_tuple = ( (1, 2, 3), [4, 5, 6], ('apple', 'banana', 'cherry'), [7, 8, 9] )\n",
    "•\tPrint all elements from my_tuple on a new line (using for loop)\n",
    "•\tCreate a new tuple by concatenating the first and last elements of my_tuple\n"
   ]
  },
  {
   "cell_type": "markdown",
   "id": "f17c7497-3ceb-4050-aa93-0ea4ab5955ff",
   "metadata": {},
   "source": [
    "(a). Print all elements from my_tuple on a new line (using for loop)\n"
   ]
  },
  {
   "cell_type": "code",
   "execution_count": 4,
   "id": "45d40cc8-de94-426f-80a8-b1957f9eb979",
   "metadata": {},
   "outputs": [
    {
     "name": "stdout",
     "output_type": "stream",
     "text": [
      "(1, 2, 3)\n",
      "[4, 5, 6]\n",
      "('apple', 'banana', 'cherry')\n",
      "[7, 8, 9]\n"
     ]
    }
   ],
   "source": [
    "my_tuple = ( (1, 2, 3), [4, 5, 6], ('apple', 'banana', 'cherry'), [7, 8, 9] )\n",
    "for loop in my_tuple:\n",
    "    print(loop)"
   ]
  },
  {
   "cell_type": "markdown",
   "id": "426a6fab-5fc4-447e-aa3a-0af6636d7817",
   "metadata": {},
   "source": [
    "(b). Create a new tuple by concatenating the first and last elements of my_tuple"
   ]
  },
  {
   "cell_type": "code",
   "execution_count": 6,
   "id": "bfc7a99e-49ee-45fa-b3e4-f951fdff02f7",
   "metadata": {},
   "outputs": [
    {
     "name": "stdout",
     "output_type": "stream",
     "text": [
      "((1, 2, 3), [4, 5, 6], ('apple', 'banana', 'cherry'), [7, 8, 9], (2, 4, 5), [8, 9, 7], 'Hatum')\n"
     ]
    }
   ],
   "source": [
    "my_tuple1 = ( (1, 2, 3), [4, 5, 6], ('apple', 'banana', 'cherry'), [7, 8, 9] )\n",
    "my_tuple2 = ( (2,4,5), [8, 9, 7],('Hatum'))\n",
    "tuple = my_tuple1 + my_tuple2\n",
    "print(tuple)"
   ]
  },
  {
   "cell_type": "markdown",
   "id": "a55dcbcb-5380-45db-8f86-ad0949fc2bf9",
   "metadata": {},
   "source": [
    "Q2. inventory = { \"The Great Gatsby\": {\"price\": 10.99, \"quantity\": 5}, \"Rich dad poor dad\": {\"price\": 8.99, \"quantity\": 8}, \"Harry Potter\": {\"price\": 12.50, \"quantity\": 2}, }\n",
    "•\tAdd a new book in inventory using method and get all book titles using method\n",
    "•\tRemove a book if it's out of stock\n"
   ]
  },
  {
   "cell_type": "markdown",
   "id": "db013069-51af-4327-895e-07e22182c736",
   "metadata": {},
   "source": [
    "a. Add a new book in inventory using method and get all book titles using method"
   ]
  },
  {
   "cell_type": "code",
   "execution_count": 21,
   "id": "09ad7e89-3898-4f19-9274-e0be995239b5",
   "metadata": {},
   "outputs": [
    {
     "name": "stdout",
     "output_type": "stream",
     "text": [
      "{'The Great Gatsby': {'price': 10.99, 'quantity': 5}, 'Rich dad poor dad': {'price': 8.99, 'quantity': 8}, 'Harry Potter': {'price': 12.5, 'quantity': 2}, 'The data engineer': {'price': 15.99, 'quantity': 5}}\n"
     ]
    }
   ],
   "source": [
    "inventory = { \"The Great Gatsby\": {\"price\": 10.99, \"quantity\": 5}, \"Rich dad poor dad\": {\"price\": 8.99, \"quantity\": 8}, \"Harry Potter\": {\"price\": 12.50, \"quantity\": 2}, }\n",
    "inventory.update({\"The data engineer\": {\"price\":15.99, \"quantity\": 5}})\n",
    "print(inventory)"
   ]
  },
  {
   "cell_type": "markdown",
   "id": "d577ad92-bfb2-4262-b1c2-772888a0efef",
   "metadata": {},
   "source": [
    "b. Remove a book if it's out of stock"
   ]
  },
  {
   "cell_type": "code",
   "execution_count": 22,
   "id": "f43d84dc-2638-4ac0-bbf5-cb14a9d84425",
   "metadata": {
    "scrolled": true
   },
   "outputs": [
    {
     "name": "stdout",
     "output_type": "stream",
     "text": [
      "{'The Great Gatsby': {'price': 10.99, 'quantity': 5}, 'Rich dad poor dad': {'price': 8.99, 'quantity': 8}, 'Harry Potter': {'price': 12.5, 'quantity': 2}, 'The data engineer': {'price': 15.99, 'quantity': 5}}\n"
     ]
    }
   ],
   "source": [
    "print(inventory)"
   ]
  },
  {
   "cell_type": "code",
   "execution_count": 40,
   "id": "0ba3a2e1-dc5d-4325-9d3a-e191f695dc53",
   "metadata": {},
   "outputs": [
    {
     "data": {
      "text/plain": [
       "{'price': 12.5, 'quantity': 2}"
      ]
     },
     "execution_count": 40,
     "metadata": {},
     "output_type": "execute_result"
    }
   ],
   "source": [
    "inventory.pop('Harry Potter')"
   ]
  },
  {
   "cell_type": "code",
   "execution_count": 41,
   "id": "8a4f4493-2b1e-48b7-bf63-1b559abec4fd",
   "metadata": {},
   "outputs": [
    {
     "name": "stdout",
     "output_type": "stream",
     "text": [
      "{'The Great Gatsby': {'price': 10.99, 'quantity': 5}, 'Rich dad poor dad': {'price': 8.99, 'quantity': 8}, 'The data engineer': {'price': 15.99, 'quantity': 5}}\n"
     ]
    }
   ],
   "source": [
    "print(inventory)"
   ]
  },
  {
   "cell_type": "markdown",
   "id": "17a908b1-1f7b-497f-9912-777aa5e6c130",
   "metadata": {},
   "source": [
    "Q3. An ecommerce store stores information about its products in a nested dictionary. The outer dictionary uses product IDs as keys, and the inner dictionary stores product details like name, category, price, and stock quantity.\n",
    "products = { 101: {\"name\": \"Laptop\", \"category\": \"Electronics\", \"price\": 1200, \"stock\": 50}, 102: {\"name\": \"Shirt\", \"category\": \"Apparel\", \"price\": 25, \"stock\": 200}, 103: {\"name\": \"Coffee Maker\", \"category\": \"Home Appliances\", \"price\": 80, \"stock\": 30} }\n",
    "•\tIncrease the stock of the \"Shirt\" product (add 50 more units)\n",
    "•\tAdd a new product (e.g., \"Smartphone\")\n"
   ]
  },
  {
   "cell_type": "code",
   "execution_count": 7,
   "id": "d14fff22-66b6-4ce1-b005-ad28a0ee3070",
   "metadata": {},
   "outputs": [
    {
     "name": "stdout",
     "output_type": "stream",
     "text": [
      "101\n",
      "102\n",
      "103\n",
      "name\n",
      "category\n",
      "price\n",
      "stock\n"
     ]
    }
   ],
   "source": [
    "products = { 101: {\"name\": \"Laptop\", \"category\": \"Electronics\", \"price\": 1200, \"stock\": 50}, 102: {\"name\": \"Shirt\", \"category\": \"Apparel\", \"price\": 25, \"stock\": 200}, 103: {\"name\": \"Coffee Maker\", \"category\": \"Home Appliances\", \"price\": 80, \"stock\": 30} }\n",
    "products.update({\"name\": \"Shirt\", \"category\": \"Apparel\", \"price\": 50, \"stock\": 250})\n",
    "for i in products:\n",
    "    print(i)\n"
   ]
  },
  {
   "cell_type": "markdown",
   "id": "f13e69b9-b277-413c-9ea0-181bd0573e9e",
   "metadata": {},
   "source": [
    "Q4. You are given a list that contains some duplicate items. Remove the duplicates by converting the list to a set.\n",
    "shopping_list = [\"apple\", \"banana\", \"apple\", \"orange\", \"banana\", \"grape\"]\n"
   ]
  },
  {
   "cell_type": "code",
   "execution_count": 19,
   "id": "04f01460-962b-46e0-966a-bada4983b6f2",
   "metadata": {},
   "outputs": [
    {
     "name": "stdout",
     "output_type": "stream",
     "text": [
      "{'apple', 'banana', 'orange', 'grape'}\n"
     ]
    }
   ],
   "source": [
    "shopping_list = [\"apple\", \"banana\", \"apple\", \"orange\", \"banana\", \"grape\"]\n",
    "shopping_list = {\"apple\", \"banana\", \"apple\", \"orange\", \"banana\", \"grape\"}\n",
    "print(shopping_list)"
   ]
  },
  {
   "cell_type": "markdown",
   "id": "a6630a70-99a5-43f7-a497-4843fe47c63c",
   "metadata": {},
   "source": [
    "Q5. You are managing a list of students enrolled in two different courses. You need to perform various set operations to understand the student enrollment. Task: Create two sets: one for students in \"Course A\" and one for students in \"Course B\". Find the students who are in \"Course A\" but not in \"Course B\" (difference). Find students who are only in one of the two courses (symmetric difference). course_a = {\"John\", \"Alice\", \"Bob\", \"David\"} course_b = {\"Alice\", \"Eve\", \"Charlie\", \"David\"}\n",
    "•\tFind students who are in Course A but not in Course B (difference)\n",
    "•\tFind students who are only in one of the two courses (symmetric difference)\n"
   ]
  },
  {
   "cell_type": "code",
   "execution_count": null,
   "id": "8d2b99f5-eb79-4d2a-8669-a01e93836ba2",
   "metadata": {},
   "outputs": [],
   "source": []
  },
  {
   "cell_type": "markdown",
   "id": "ecba343d-dfff-429e-ba20-51ea81b68d26",
   "metadata": {},
   "source": [
    "Q6. Write a Python program that calculates the sum of all even numbers between 1 and 50 (inclusive) using a for loop.\n",
    "Hint\n",
    "1.\tInitialize a variable to hold the sum (e.g., sum_of_evens).\n",
    "2.\tUse a for loop to iterate through all numbers from 1 to 50.\n",
    "3.\tInside the loop, check if the number is even.\n",
    "4.\tIf the number is even, add it to sum_of_evens.\n",
    "5.\tAfter the loop finishes, print the total sum of all even numbers between 1 and 50.\n"
   ]
  },
  {
   "cell_type": "code",
   "execution_count": 20,
   "id": "fdcae431-6f7d-4578-bb7a-bb095bbe270b",
   "metadata": {},
   "outputs": [
    {
     "name": "stdout",
     "output_type": "stream",
     "text": [
      "The sum of all even numbers between 1 and 50 is: 650\n"
     ]
    }
   ],
   "source": [
    "sum_of_evens = 0\n",
    "for num in range(1, 51):\n",
    "    if num % 2 == 0:\n",
    "        sum_of_evens += num\n",
    "print(\"The sum of all even numbers between 1 and 50 is:\", sum_of_evens)\n"
   ]
  },
  {
   "cell_type": "markdown",
   "id": "8496d308-ed55-432c-a690-26e9996a77b4",
   "metadata": {},
   "source": [
    "Q7. Write a Python program that prints the multiplication table for a given number (between 1 and 10) using a for loop.\n",
    "\n",
    "Hint:\n",
    "1.\tAsk the user for a number between 1 and 10 .\n",
    "2.\tUse a for loop to iterate through the numbers from 1 to 10.\n",
    "3.\tFor each iteration, calculate the product of the given number and the current number in the loop.\n",
    "4.\tPrint the result in a readable format (e.g., 5 x 1 = 5).\n",
    "5.\tEnsure the program works correctly for any number between 1 and 10.\n"
   ]
  },
  {
   "cell_type": "code",
   "execution_count": 23,
   "id": "5930aa03-7db5-41a0-b442-6a40325f7084",
   "metadata": {},
   "outputs": [
    {
     "name": "stdin",
     "output_type": "stream",
     "text": [
      "Enter a number between 1 and 10:  9\n"
     ]
    },
    {
     "name": "stdout",
     "output_type": "stream",
     "text": [
      "9 x 1 = 9\n",
      "9 x 2 = 18\n",
      "9 x 3 = 27\n",
      "9 x 4 = 36\n",
      "9 x 5 = 45\n",
      "9 x 6 = 54\n",
      "9 x 7 = 63\n",
      "9 x 8 = 72\n",
      "9 x 9 = 81\n",
      "9 x 10 = 90\n"
     ]
    }
   ],
   "source": [
    "number = int(input(\"Enter a number between 1 and 10: \"))\n",
    "if 1 <= number <= 10:\n",
    "     for i in range(1, 11):\n",
    "        product = number * i\n",
    "        print(f\"{number} x {i} = {product}\")\n",
    "else:\n",
    "    print(\"Invalid input! Please enter a number between 1 and 10.\")\n"
   ]
  },
  {
   "cell_type": "markdown",
   "id": "68c512ed-cd1b-4221-8d0a-f1537d4eef64",
   "metadata": {},
   "source": [
    "Q8. Power of a Number\n",
    "Write a Python program that takes a number and prints the powers of the number (starting from 1 to 10) using a while loop. For example, if the user inputs 3, the output should be:\n",
    "3^1 = 3\n",
    "3^2 = 9\n",
    "3^3 = 27\n",
    "... up to 3^10.\n"
   ]
  },
  {
   "cell_type": "code",
   "execution_count": 25,
   "id": "cb779573-e501-4171-853d-0a67581db62a",
   "metadata": {},
   "outputs": [
    {
     "name": "stdin",
     "output_type": "stream",
     "text": [
      "Enter the number:  3\n"
     ]
    },
    {
     "name": "stdout",
     "output_type": "stream",
     "text": [
      "3 x 1 = 3\n",
      "3 x 2 = 6\n",
      "3 x 3 = 9\n",
      "3 x 4 = 12\n",
      "3 x 5 = 15\n",
      "3 x 6 = 18\n",
      "3 x 7 = 21\n",
      "3 x 8 = 24\n",
      "3 x 9 = 27\n",
      "3 x 10 = 30\n"
     ]
    }
   ],
   "source": [
    "number = int(input(\"Enter the number: \"))\n",
    "if 1 <= number <= 10:\n",
    "     for i in range(1, 11):\n",
    "        product = number * i\n",
    "        print(f\"{number} x {i} = {product}\")\n",
    "else:\n",
    "    print(\"Invalid input! Please enter a number between 1 and 10.\")\n"
   ]
  },
  {
   "cell_type": "code",
   "execution_count": null,
   "id": "47539549-415b-43f9-93c3-65a27ccfde68",
   "metadata": {},
   "outputs": [],
   "source": []
  }
 ],
 "metadata": {
  "kernelspec": {
   "display_name": "Python 3 (ipykernel)",
   "language": "python",
   "name": "python3"
  },
  "language_info": {
   "codemirror_mode": {
    "name": "ipython",
    "version": 3
   },
   "file_extension": ".py",
   "mimetype": "text/x-python",
   "name": "python",
   "nbconvert_exporter": "python",
   "pygments_lexer": "ipython3",
   "version": "3.12.7"
  }
 },
 "nbformat": 4,
 "nbformat_minor": 5
}
