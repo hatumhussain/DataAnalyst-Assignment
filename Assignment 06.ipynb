{
 "cells": [
  {
   "cell_type": "markdown",
   "id": "12908a1d-b91e-440a-958e-bd30d8785ea2",
   "metadata": {},
   "source": [
    "Question 01: In a transportation system, we have two classes:  ElectricVehicle: A class that has a method charge() to charge the vehicle.  GasolineVehicle: A class that has a method fuel_up() to refuel the vehicle.\n",
    "Create a class HybridCar that inherits from both ElectricVehicle and GasolineVehicle. The HybridCar\n",
    "class should have a method drive() that prints a message showing the car is being driven. Instantiate\n",
    "an object of class HybridCar and demonstrate the usage of charge(), fuel_up(), and drive().\n",
    "Expected Output:  Charging the electric vehicle.  Filling up the gasoline tank.  Driving the hybrid car."
   ]
  },
  {
   "cell_type": "code",
   "execution_count": 3,
   "id": "35d2aab9-8dbb-47aa-ae41-7f26a97446c4",
   "metadata": {},
   "outputs": [
    {
     "name": "stdout",
     "output_type": "stream",
     "text": [
      "Charging the electric vehicle.\n",
      "Filling up the gasoline tank.\n",
      "Driving the hybrid car.\n"
     ]
    }
   ],
   "source": [
    "class ElectricVehicle:\n",
    "    def charge(self):\n",
    "        print(\"Charging the electric vehicle.\")\n",
    "\n",
    "class GasolineVehicle:\n",
    "    def fuel_up(self):\n",
    "        print(\"Filling up the gasoline tank.\")\n",
    "\n",
    "class HybridCar(ElectricVehicle, GasolineVehicle):\n",
    "    def drive(self):\n",
    "        print(\"Driving the hybrid car.\")\n",
    "\n",
    "hybrid_car = HybridCar()\n",
    "\n",
    "\n",
    "hybrid_car.charge()\n",
    "hybrid_car.fuel_up()\n",
    "hybrid_car.drive()"
   ]
  },
  {
   "cell_type": "markdown",
   "id": "ec28069b-7dbd-4294-a09e-b64eee7034ef",
   "metadata": {},
   "source": [
    "Question 2:\n",
    "Create a class Animal with a method make_sound(), which prints \"Animal makes a sound\". Then,\n",
    "create two subclasses:  Lion: Override the make_sound() method to print \"Roar\".  Cat: Override the make_sound() method to print \"Meow\".\n",
    "Demonstrate polymorphism by calling make_sound() on instances of Lion and Cat."
   ]
  },
  {
   "cell_type": "code",
   "execution_count": 6,
   "id": "cb4d02cc-edc1-45d9-835b-e5d1b44471c5",
   "metadata": {},
   "outputs": [
    {
     "name": "stdout",
     "output_type": "stream",
     "text": [
      "Roar\n",
      "Meow\n"
     ]
    }
   ],
   "source": [
    "class Animal:\n",
    "    def make_sound(self):\n",
    "        print(\"Animal makes a sound\")\n",
    "\n",
    "class Lion(Animal):\n",
    "    def make_sound(self):\n",
    "        print(\"Roar\")\n",
    "class Cat(Animal):\n",
    "    def make_sound(self):\n",
    "        print(\"Meow\")\n",
    "lion = Lion()\n",
    "cat = Cat()\n",
    "\n",
    "lion.make_sound()  \n",
    "cat.make_sound()   \n"
   ]
  },
  {
   "cell_type": "markdown",
   "id": "fc5f58c8-b45d-4990-aa66-4805a7ef3354",
   "metadata": {},
   "source": [
    "Question 3:\n",
    "Create an abstract class SmartHomeDevice with two abstract methods:  turn_on() (to turn the device on)  turn_off() (to turn the device off)\n",
    "Then, create a Light class that inherits from SmartHomeDevice. Implement the methods turn_on()\n",
    "and turn_off() for a light device. The turn_on() method should print \"Light is ON\", and the turn_off()\n",
    "method should print \"Light is OFF\".\n",
    "Write a Python program to control the light device in a smart home.\n",
    "Expected Output:  Turning on the light...  Light is ON\n",
    " Turning off the light...  Light is OFF"
   ]
  },
  {
   "cell_type": "code",
   "execution_count": null,
   "id": "b29c27c8-8ea7-4081-b34f-5bc2a2dc1046",
   "metadata": {},
   "outputs": [],
   "source": [
    "s"
   ]
  },
  {
   "cell_type": "markdown",
   "id": "49c3b4a1-2689-402a-b675-f928b60052e8",
   "metadata": {},
   "source": [
    "Q.NO.04Create a class Greeting with a method greet() that can handle different numbers of arguments.  If no argument is passed, it should print \"Hello!\".  If one argument (a name) is passed, it should print \"Hello, !\".  If two arguments (a name and a greeting) are passed, it should print the greeting with the\n",
    "name (e.g., \"Good morning, !\").\n",
    "Simulate method overloading using default arguments or variable-length arguments, and\n",
    "demonstrate the polymorphic behavior by calling greet() with different numbers of arguments.\n",
    "Expected Output:  Hello!  Hello, John!  Good morning, John!"
   ]
  },
  {
   "cell_type": "code",
   "execution_count": 10,
   "id": "a6ff63ca-2666-4268-93e4-d466c8f6085b",
   "metadata": {},
   "outputs": [
    {
     "name": "stdout",
     "output_type": "stream",
     "text": [
      "Hello!\n",
      "Hello, John!\n",
      "Good morning, John!\n"
     ]
    }
   ],
   "source": [
    "# Define the Greeting class\n",
    "class Greeting:\n",
    "    def greet(self, *args):\n",
    "        if len(args) == 0:\n",
    "            print(\"Hello!\")\n",
    "        elif len(args) == 1:\n",
    "            print(f\"Hello, {args[0]}!\")\n",
    "        elif len(args) == 2:\n",
    "            print(f\"{args[1]}, {args[0]}!\")\n",
    "        else:\n",
    "            print(\"Invalid number of arguments.\")\n",
    "\n",
    "greeting = Greeting()\n",
    "\n",
    "greeting.greet()                  \n",
    "greeting.greet(\"John\")              \n",
    "greeting.greet(\"John\", \"Good morning\")  \n"
   ]
  },
  {
   "cell_type": "code",
   "execution_count": null,
   "id": "39dec6a8-5dd6-4fe0-90c3-ac2a9df1c459",
   "metadata": {},
   "outputs": [],
   "source": []
  }
 ],
 "metadata": {
  "kernelspec": {
   "display_name": "Python 3 (ipykernel)",
   "language": "python",
   "name": "python3"
  },
  "language_info": {
   "codemirror_mode": {
    "name": "ipython",
    "version": 3
   },
   "file_extension": ".py",
   "mimetype": "text/x-python",
   "name": "python",
   "nbconvert_exporter": "python",
   "pygments_lexer": "ipython3",
   "version": "3.12.7"
  }
 },
 "nbformat": 4,
 "nbformat_minor": 5
}
