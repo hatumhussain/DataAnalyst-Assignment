{
 "cells": [
  {
   "cell_type": "markdown",
   "id": "ce3ff8aa-1de4-4e1e-9788-83e4c15b8756",
   "metadata": {},
   "source": [
    "Q1. Write program to check a person’s eligibility for a loan based on age, credit score, and income. This time, the eligibility criteria will be:\n",
    "\n",
    "The person must be 18 years or older. The person must have a credit score of 650 or higher. The person must have an annual income of at least 30000 dollars If the person has a credit score of 700 or higher, they may still be eligible with an income of 25000 dollars or more.\n"
   ]
  },
  {
   "cell_type": "code",
   "execution_count": 13,
   "id": "0bdcaa49-ea54-4336-98f7-a14f689f59d2",
   "metadata": {},
   "outputs": [
    {
     "name": "stdin",
     "output_type": "stream",
     "text": [
      "Enter Your Age:  18\n",
      "Enter your credit_score:  650\n",
      "Enter your annual_income:  3000\n"
     ]
    },
    {
     "name": "stdout",
     "output_type": "stream",
     "text": [
      "You are eligible for loan\n"
     ]
    }
   ],
   "source": [
    "age = int(input(\"Enter Your Age: \"))\n",
    "credit_score = int(input(\"Enter your credit_score: \"))\n",
    "annual_income = int(input(\"Enter your annual_income: \"))\n",
    "\n",
    "if age <=18 and credit_score <=650 and annual_income <=3000:\n",
    "    print(\"You are eligible for loan\")\n",
    "elif age>=18 and credit_score >=700 and annual_income >=25000:\n",
    "    print(\"You are eligible for loan\")\n",
    "else:\n",
    "    print(\"You are not eligible for loan\")"
   ]
  },
  {
   "cell_type": "markdown",
   "id": "e5d13f8e-b46c-48af-a415-ece23aef073c",
   "metadata": {},
   "source": [
    "Q2. Write a Python program that checks if a person is an adult (age ≥ 18).\n",
    "\n",
    "Take the age as input.\n",
    "If the person is underage (age < 18), show message: \"You are underage\" and don't ask for experience.\n",
    "\n",
    "If the person is an adult, take years of experience as input and print:\n",
    "\"You have a lot of experience.\" (10+ years)\n",
    "\"You have moderate experience.\" (5-9 years)\n",
    "\"You are relatively new.\" (2-4 years)\n",
    "\"You are just starting out.\" (less than 2 years)\n"
   ]
  },
  {
   "cell_type": "code",
   "execution_count": 3,
   "id": "7d3f7550-19fa-487d-8a83-a9754985a086",
   "metadata": {},
   "outputs": [
    {
     "name": "stdin",
     "output_type": "stream",
     "text": [
      "Enter your age:  19\n",
      "Enter your age:  09\n",
      "Enter the no.of experience:  4\n"
     ]
    },
    {
     "name": "stdout",
     "output_type": "stream",
     "text": [
      "you are internee\n"
     ]
    }
   ],
   "source": [
    "age = int (input(\"Enter your age: \"))\n",
    "if age <=18:\n",
    "    print(\"You are underage\")\n",
    "\n",
    "else:\n",
    "    age = int(input(\"Enter your age: \"))\n",
    "    experience = int(input(\"Enter the no.of experience: \"))\n",
    "    if age >= 18 and experience >=4:\n",
    "        print(\"You are just starting out\")\n",
    "    elif age >=25 and experience >=5:\n",
    "        print(\"you have moderate experience\")\n",
    "    elif age >=30 and experience >10:\n",
    "        print(\"You have lot of experience\")\n",
    "    else:\n",
    "        print(\"you are internee\")\n"
   ]
  },
  {
   "cell_type": "markdown",
   "id": "02d6237e-7b57-428a-af82-ceea2536c385",
   "metadata": {},
   "source": [
    "Q3. Write a program to explore below variables\n",
    "\n",
    "a) Print their memory address (to check if python assigns same address of different variables having same element)\n",
    "b) Find memory size and append them in a list, use this list to find data type having least memory size\n",
    "c) Print final name of data type which has lowest memory\n",
    "Result will help a programmer to decide which variable is storing less memory and variable locations\n"
   ]
  },
  {
   "cell_type": "code",
   "execution_count": 48,
   "id": "c507579f-14d9-42c6-bdcf-5884d000eb75",
   "metadata": {},
   "outputs": [
    {
     "name": "stdout",
     "output_type": "stream",
     "text": [
      "140719564337976\n",
      "140719564337976\n",
      "28 77\n",
      "28 77\n",
      "28 77\n",
      "a =  77 data type of a = int <class 'int'>\n"
     ]
    }
   ],
   "source": [
    "import sys\n",
    "#a) Print their memory address (to check if python assigns same address of different variables having same element)\n",
    "a = 77\n",
    "b = 77\n",
    "a == b\n",
    "print(id(a))\n",
    "print(id(b))\n",
    "\n",
    "#b) Find memory size and append them in a list, use this list to find data type having least memory size\n",
    "a = 77\n",
    "print(sys.getsizeof(a),a)\n",
    "\n",
    "#c) Print final name of data type which has lowest memory\n",
    "a = 77\n",
    "b = 77\n",
    "print(sys.getsizeof(a),a)\n",
    "print(sys.getsizeof(b),b)\n",
    "print(\"a = \", a, \"data type of a = int\", type(a))\n"
   ]
  },
  {
   "cell_type": "markdown",
   "id": "9b210642-d4d9-4b09-98d1-22665fa4bc16",
   "metadata": {},
   "source": [
    "Q4. Write a Python program that asks the user to enter an email address. The program should check if the email contains the characters @ and \".\" (ignoring case). If either character is present, print \"Email format is valid.\" Otherwise, print \"Invalid email format.\"\n"
   ]
  },
  {
   "cell_type": "code",
   "execution_count": 59,
   "id": "3a6a14b6-f94d-4935-8a4d-3d17a13f9b91",
   "metadata": {},
   "outputs": [
    {
     "name": "stdin",
     "output_type": "stream",
     "text": [
      "Enter Your Email Address:  hatum\n"
     ]
    },
    {
     "name": "stdout",
     "output_type": "stream",
     "text": [
      "Invalid email format.\n"
     ]
    }
   ],
   "source": [
    "email = str(input(\"Enter Your Email Address: \"))\n",
    "\n",
    "if '@' in email and '.' in email:\n",
    "    print(\"Email format is valid.\")\n",
    "else:\n",
    "    print(\"Invalid email format.\")"
   ]
  },
  {
   "cell_type": "markdown",
   "id": "effcc7f1-1922-45f6-b3bc-84fdc544a2c4",
   "metadata": {},
   "source": [
    "Q5. Write a python program to know data type of each element stored in a tuple, append the data types in a list. Show final output in a list as data types of tuple elements\n",
    "x = (11,22.333,'apple',[1,2,3],('a','b'))\n"
   ]
  },
  {
   "cell_type": "code",
   "execution_count": 64,
   "id": "04940174-2c66-48c3-81b2-623376c04021",
   "metadata": {},
   "outputs": [
    {
     "name": "stdout",
     "output_type": "stream",
     "text": [
      "Data types of tuple elements: ['int', 'float', 'str', 'list', 'tuple']\n"
     ]
    }
   ],
   "source": [
    "x = (11,22.333,'apple',[1,2,3],('a','b'))\n",
    "data_types = [type(element).__name__ for element in x]\n",
    "print(\"Data types of tuple elements:\", data_types)"
   ]
  },
  {
   "cell_type": "markdown",
   "id": "ddbc2da2-b8d4-4489-a55b-40a9981c6586",
   "metadata": {},
   "source": [
    "Q6. Write a Python program that:\n",
    "Checks if a given username exists in a list of active users.\n",
    "Verifies if the user is the admin using identity operators.\n",
    "Hints:\n",
    "Use a list of tuples where each tuple contains a username and role\n",
    "[(\"alice\", \"admin\"),\n",
    "(\"bob\", \"user\"),\n",
    "(\"charlie\", \"moderator\")]\n",
    "Use the in operator to check if the username exists in the list.\n",
    "Use the is operator to check if the user is the admin (admin is a specific reference, e.g., (\"alice\", \"admin\")).\n"
   ]
  },
  {
   "cell_type": "code",
   "execution_count": 69,
   "id": "178bbd2f-e237-4e1f-b485-2d1e9b1741a4",
   "metadata": {},
   "outputs": [
    {
     "name": "stdin",
     "output_type": "stream",
     "text": [
      "Enter the username to check the active users:  bob\n"
     ]
    },
    {
     "name": "stdout",
     "output_type": "stream",
     "text": [
      "Sorry you are inactive\n"
     ]
    }
   ],
   "source": [
    "username = input(\"Enter the username to check the active users: \")\n",
    "username = [(\"alice\", \"admin\"), (\"bob\", \"user\"), (\"charlie\", \"moderator\")] \n",
    "if username is [(\"alice\", \"admin\"), (\"bob\", \"user\"), (\"charlie\", \"moderator\")]:\n",
    "    print(\"These are active users\")\n",
    "else:\n",
    "    print(\"Sorry you are inactive\")"
   ]
  },
  {
   "cell_type": "markdown",
   "id": "0652708d-bc55-4ffb-a270-c588b4296a9e",
   "metadata": {},
   "source": [
    "Q7. person1 has same family as of person2, write a program to print relation between person1 and person2, if their data is ['father name','mother name','district','family number'] same (Print relation 'Siblings') also check person1 data with person3 which is cousin of person1 (Print relation 'Cousin')\n",
    "Hint:\n",
    "Use identity operator\n"
   ]
  },
  {
   "cell_type": "code",
   "execution_count": 72,
   "id": "ed5f85f3-a47a-4ddd-9445-ddddf42b7fcc",
   "metadata": {},
   "outputs": [
    {
     "name": "stdout",
     "output_type": "stream",
     "text": [
      "Relation between person1 and person2: Siblings\n"
     ]
    }
   ],
   "source": [
    "person1 = ['John', 'Mary', 'New York', '12345']\n",
    "person2 = ['John', 'Mary', 'New York', '12345']\n",
    "person3 = ['Robert', 'Jane', 'Chicago', '67890']\n",
    "\n",
    "if person1[:3] == person2[:3] and person1[3] == person2[3]:\n",
    "    print(\"Relation between person1 and person2: Siblings\")\n",
    "elif person1[:3] == person3[:3] and person1[3] != person3[3]:\n",
    "    print(\"Relation between person1 and person3: Cousin\")"
   ]
  },
  {
   "cell_type": "markdown",
   "id": "189db728-d0be-40a4-8dfa-a785bb8e2fd6",
   "metadata": {},
   "source": [
    "Q8. Write a Python program to store and display a book's title, author, year of publication, and price using a tuple.\n",
    "\n",
    "Instructions:\n",
    "Create a tuple to store the book details.\n",
    "Ask the user for the book's title, author, year, and price.\n",
    "Display the stored book information.\n"
   ]
  },
  {
   "cell_type": "code",
   "execution_count": 1,
   "id": "9fb1446b-25da-42d2-a5e6-02d969f70708",
   "metadata": {},
   "outputs": [
    {
     "name": "stdin",
     "output_type": "stream",
     "text": [
      "Tell me the book title:  Python Programming \n",
      "Tell me the author name:  Hatum Hussain \n",
      "Tell me the year:  2024\n",
      "Tell me the price:  3000\n"
     ]
    }
   ],
   "source": [
    "book = input(\"Tell me the book title: \")\n",
    "author = input(\"Tell me the author name: \")\n",
    "Year = input(\"Tell me the year: \")\n",
    "price = input(\"Tell me the price: \")\n",
    "a = ('pythonprograming', 'Hatum', 2024,3000)"
   ]
  },
  {
   "cell_type": "code",
   "execution_count": null,
   "id": "c4fea157-68fa-46e6-8e07-1e5e152f404e",
   "metadata": {},
   "outputs": [],
   "source": []
  }
 ],
 "metadata": {
  "kernelspec": {
   "display_name": "Python 3 (ipykernel)",
   "language": "python",
   "name": "python3"
  },
  "language_info": {
   "codemirror_mode": {
    "name": "ipython",
    "version": 3
   },
   "file_extension": ".py",
   "mimetype": "text/x-python",
   "name": "python",
   "nbconvert_exporter": "python",
   "pygments_lexer": "ipython3",
   "version": "3.12.7"
  }
 },
 "nbformat": 4,
 "nbformat_minor": 5
}
