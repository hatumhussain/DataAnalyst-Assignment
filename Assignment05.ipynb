{
 "cells": [
  {
   "cell_type": "markdown",
   "id": "9055fed6-dd97-4ba0-acae-a9c07c96b6ed",
   "metadata": {},
   "source": [
    "Q.No.01.Write a Python function called add_numbers that takes two numbers as arguments and returns their sum. Then, test the function by calling it with two numbers of your choice."
   ]
  },
  {
   "cell_type": "code",
   "execution_count": 2,
   "id": "e072db42-00af-4d96-bf97-e21ee4cb539d",
   "metadata": {},
   "outputs": [
    {
     "data": {
      "text/plain": [
       "18"
      ]
     },
     "execution_count": 2,
     "metadata": {},
     "output_type": "execute_result"
    }
   ],
   "source": [
    "def add(a,b):\n",
    "    return(a+b)\n",
    "add(a=9,b=9)"
   ]
  },
  {
   "cell_type": "markdown",
   "id": "8b2852db-ba89-4e37-bcb4-00a3e298fc78",
   "metadata": {},
   "source": [
    "Q.No.02.Write a Python function count_vowels that accepts a string and returns the number of vowels (a, e, i, o, u) in that string.\n",
    "Example: 'Orange'\n",
    "Output: 3 vowels"
   ]
  },
  {
   "cell_type": "code",
   "execution_count": 8,
   "id": "c0761320-d721-4ddd-8221-079ca1c35cc9",
   "metadata": {},
   "outputs": [
    {
     "ename": "SyntaxError",
     "evalue": "invalid syntax (2453589220.py, line 1)",
     "output_type": "error",
     "traceback": [
      "\u001b[1;36m  Cell \u001b[1;32mIn[8], line 1\u001b[1;36m\u001b[0m\n\u001b[1;33m    def txt(\"orange\")\u001b[0m\n\u001b[1;37m            ^\u001b[0m\n\u001b[1;31mSyntaxError\u001b[0m\u001b[1;31m:\u001b[0m invalid syntax\n"
     ]
    }
   ],
   "source": []
  },
  {
   "cell_type": "markdown",
   "id": "fda07454-cdb5-4a49-bd2e-6b51d489e07e",
   "metadata": {},
   "source": [
    "Q.No.03: Create a Python function called currency_converter() that takes two arguments:\n",
    "amount: The amount of money to be converted (in USD).\n",
    "exchange_rate (default is 280): The conversion rate from USD to another currency (e.g., PKR). You can assume the default rate is 1 USD = 280 PKR."
   ]
  },
  {
   "cell_type": "code",
   "execution_count": 4,
   "id": "4623cdfa-bc41-43a6-b553-9fcd255754fa",
   "metadata": {},
   "outputs": [
    {
     "name": "stdout",
     "output_type": "stream",
     "text": [
      "$50 USD is equal to 14000 PKR.\n"
     ]
    }
   ],
   "source": [
    "def currency_converter(amount, exchange_rate=280):\n",
    "    converted_amount = amount * exchange_rate\n",
    "    return converted_amount\n",
    "usd_amount = 50  \n",
    "converted = currency_converter(usd_amount)  \n",
    "print(f\"${usd_amount} USD is equal to {converted} PKR.\")"
   ]
  },
  {
   "cell_type": "markdown",
   "id": "02bcb61a-1cee-4c1c-8149-2c22d5dc6536",
   "metadata": {},
   "source": [
    "Q.No.04 : Write a Python function display_student_info that accepts the following details about a student:\n",
    "name (Keyword argument): The name of the student.\n",
    "age (Keyword argument): The age of the student.\n",
    "grade (Keyword argument): The grade the student is in.\n",
    "school (Keyword argument): The name of the school the student attends."
   ]
  },
  {
   "cell_type": "code",
   "execution_count": 6,
   "id": "e010beac-5a2f-40ba-ac22-24e17624ebe5",
   "metadata": {},
   "outputs": [
    {
     "name": "stdout",
     "output_type": "stream",
     "text": [
      "Student_Name:Hatum Hussain\n",
      "age:30\n",
      "Grade:A\n",
      "Name_of_School:Paf\n"
     ]
    }
   ],
   "source": [
    "def student_info(**kwargs):\n",
    "    for student_info, xyz in kwargs.items():\n",
    "        print(f\"{student_info}:{xyz}\")\n",
    "\n",
    "student_info(Student_Name=\"Hatum Hussain\", age=30, Grade=\"A\",Name_of_School='Paf')"
   ]
  },
  {
   "cell_type": "markdown",
   "id": "488f55d3-9fa0-4185-b2dd-9f03f7f085c5",
   "metadata": {},
   "source": [
    "Q.No.05: Write a Python function calculate_price that accepts two positional arguments:\n",
    "price: The price of a single item.\n",
    "quantity: The number of items bought.\n",
    "The function should return the total price by multiplying price and quantity."
   ]
  },
  {
   "cell_type": "code",
   "execution_count": null,
   "id": "0abdec22-23d5-4565-8aa1-fc6b07b072d6",
   "metadata": {},
   "outputs": [],
   "source": [
    "def show_info(*args):\n",
    "    print(\"Positional arguments:\", args)\n",
    "show_info(\"Alice\", \"Bob\")"
   ]
  }
 ],
 "metadata": {
  "kernelspec": {
   "display_name": "Python 3 (ipykernel)",
   "language": "python",
   "name": "python3"
  },
  "language_info": {
   "codemirror_mode": {
    "name": "ipython",
    "version": 3
   },
   "file_extension": ".py",
   "mimetype": "text/x-python",
   "name": "python",
   "nbconvert_exporter": "python",
   "pygments_lexer": "ipython3",
   "version": "3.12.7"
  }
 },
 "nbformat": 4,
 "nbformat_minor": 5
}
